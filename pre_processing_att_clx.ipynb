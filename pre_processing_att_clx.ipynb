{
 "cells": [
  {
   "cell_type": "code",
   "execution_count": 2,
   "metadata": {
    "ExecuteTime": {
     "end_time": "2024-09-14T16:39:11.036596Z",
     "start_time": "2024-09-14T16:39:10.909701Z"
    }
   },
   "outputs": [],
   "source": [
    "import pandas as pd\n",
    "import numpy as np\n",
    "\n",
    "from statsmodels.tsa.stattools import adfuller"
   ]
  },
  {
   "cell_type": "markdown",
   "metadata": {},
   "source": [
    "### First Order Difference / Second Order Difference"
   ]
  },
  {
   "cell_type": "code",
   "execution_count": 3,
   "metadata": {},
   "outputs": [],
   "source": [
    "df = pd.read_csv('Train_Cleaned_KNN_Filtered.csv')"
   ]
  },
  {
   "cell_type": "code",
   "execution_count": 4,
   "metadata": {},
   "outputs": [],
   "source": [
    "# Sort by 'LAT', 'LON', and 'Date' to ensure correct sequential order\n",
    "df.sort_values(by=['LAT', 'LON', 'Date'], inplace=True)\n",
    "\n",
    "# Calculate first and second-order differences for each unique (LAT, LON) combination\n",
    "df['First_Diff_GT_NO2'] = df.groupby(['LAT', 'LON'])['GT_NO2'].diff()\n",
    "df['Second_Diff_GT_NO2'] = df.groupby(['LAT', 'LON'])['First_Diff_GT_NO2'].diff()"
   ]
  },
  {
   "cell_type": "code",
   "execution_count": 5,
   "metadata": {},
   "outputs": [
    {
     "data": {
      "text/html": [
       "<div>\n",
       "<style scoped>\n",
       "    .dataframe tbody tr th:only-of-type {\n",
       "        vertical-align: middle;\n",
       "    }\n",
       "\n",
       "    .dataframe tbody tr th {\n",
       "        vertical-align: top;\n",
       "    }\n",
       "\n",
       "    .dataframe thead th {\n",
       "        text-align: right;\n",
       "    }\n",
       "</style>\n",
       "<table border=\"1\" class=\"dataframe\">\n",
       "  <thead>\n",
       "    <tr style=\"text-align: right;\">\n",
       "      <th></th>\n",
       "      <th>Date</th>\n",
       "      <th>LAT</th>\n",
       "      <th>LON</th>\n",
       "      <th>Precipitation</th>\n",
       "      <th>LST</th>\n",
       "      <th>AAI</th>\n",
       "      <th>CloudFraction</th>\n",
       "      <th>NO2_strat</th>\n",
       "      <th>NO2_total</th>\n",
       "      <th>NO2_trop</th>\n",
       "      <th>TropopausePressure</th>\n",
       "      <th>GT_NO2</th>\n",
       "      <th>First_Diff_GT_NO2</th>\n",
       "      <th>Second_Diff_GT_NO2</th>\n",
       "    </tr>\n",
       "  </thead>\n",
       "  <tbody>\n",
       "    <tr>\n",
       "      <th>26</th>\n",
       "      <td>2019-01-01</td>\n",
       "      <td>44.924694</td>\n",
       "      <td>10.517502</td>\n",
       "      <td>0.000000</td>\n",
       "      <td>292.402857</td>\n",
       "      <td>0.286079</td>\n",
       "      <td>0.954099</td>\n",
       "      <td>0.000024</td>\n",
       "      <td>0.000395</td>\n",
       "      <td>0.000087</td>\n",
       "      <td>14436.75358</td>\n",
       "      <td>28.525</td>\n",
       "      <td>NaN</td>\n",
       "      <td>NaN</td>\n",
       "    </tr>\n",
       "    <tr>\n",
       "      <th>62</th>\n",
       "      <td>2019-01-02</td>\n",
       "      <td>44.924694</td>\n",
       "      <td>10.517502</td>\n",
       "      <td>8.211939</td>\n",
       "      <td>301.414286</td>\n",
       "      <td>-0.579522</td>\n",
       "      <td>0.970421</td>\n",
       "      <td>0.000030</td>\n",
       "      <td>0.000873</td>\n",
       "      <td>0.000109</td>\n",
       "      <td>16692.01730</td>\n",
       "      <td>35.925</td>\n",
       "      <td>7.400</td>\n",
       "      <td>NaN</td>\n",
       "    </tr>\n",
       "    <tr>\n",
       "      <th>123</th>\n",
       "      <td>2019-01-03</td>\n",
       "      <td>44.924694</td>\n",
       "      <td>10.517502</td>\n",
       "      <td>0.000000</td>\n",
       "      <td>307.257143</td>\n",
       "      <td>-0.886214</td>\n",
       "      <td>0.273483</td>\n",
       "      <td>0.000037</td>\n",
       "      <td>0.000171</td>\n",
       "      <td>0.000119</td>\n",
       "      <td>19279.33913</td>\n",
       "      <td>33.225</td>\n",
       "      <td>-2.700</td>\n",
       "      <td>-10.100</td>\n",
       "    </tr>\n",
       "    <tr>\n",
       "      <th>181</th>\n",
       "      <td>2019-01-04</td>\n",
       "      <td>44.924694</td>\n",
       "      <td>10.517502</td>\n",
       "      <td>0.000000</td>\n",
       "      <td>294.240000</td>\n",
       "      <td>-0.894068</td>\n",
       "      <td>0.109390</td>\n",
       "      <td>0.000050</td>\n",
       "      <td>0.000152</td>\n",
       "      <td>0.000102</td>\n",
       "      <td>19286.55321</td>\n",
       "      <td>24.275</td>\n",
       "      <td>-8.950</td>\n",
       "      <td>-6.250</td>\n",
       "    </tr>\n",
       "    <tr>\n",
       "      <th>212</th>\n",
       "      <td>2019-01-05</td>\n",
       "      <td>44.924694</td>\n",
       "      <td>10.517502</td>\n",
       "      <td>0.000000</td>\n",
       "      <td>303.260000</td>\n",
       "      <td>-0.987795</td>\n",
       "      <td>0.000008</td>\n",
       "      <td>0.000063</td>\n",
       "      <td>0.000116</td>\n",
       "      <td>0.000053</td>\n",
       "      <td>19282.00083</td>\n",
       "      <td>6.650</td>\n",
       "      <td>-17.625</td>\n",
       "      <td>-8.675</td>\n",
       "    </tr>\n",
       "  </tbody>\n",
       "</table>\n",
       "</div>"
      ],
      "text/plain": [
       "           Date        LAT        LON  Precipitation         LST       AAI  \\\n",
       "26   2019-01-01  44.924694  10.517502       0.000000  292.402857  0.286079   \n",
       "62   2019-01-02  44.924694  10.517502       8.211939  301.414286 -0.579522   \n",
       "123  2019-01-03  44.924694  10.517502       0.000000  307.257143 -0.886214   \n",
       "181  2019-01-04  44.924694  10.517502       0.000000  294.240000 -0.894068   \n",
       "212  2019-01-05  44.924694  10.517502       0.000000  303.260000 -0.987795   \n",
       "\n",
       "     CloudFraction  NO2_strat  NO2_total  NO2_trop  TropopausePressure  \\\n",
       "26        0.954099   0.000024   0.000395  0.000087         14436.75358   \n",
       "62        0.970421   0.000030   0.000873  0.000109         16692.01730   \n",
       "123       0.273483   0.000037   0.000171  0.000119         19279.33913   \n",
       "181       0.109390   0.000050   0.000152  0.000102         19286.55321   \n",
       "212       0.000008   0.000063   0.000116  0.000053         19282.00083   \n",
       "\n",
       "     GT_NO2  First_Diff_GT_NO2  Second_Diff_GT_NO2  \n",
       "26   28.525                NaN                 NaN  \n",
       "62   35.925              7.400                 NaN  \n",
       "123  33.225             -2.700             -10.100  \n",
       "181  24.275             -8.950              -6.250  \n",
       "212   6.650            -17.625              -8.675  "
      ]
     },
     "execution_count": 5,
     "metadata": {},
     "output_type": "execute_result"
    }
   ],
   "source": [
    "df.head()"
   ]
  },
  {
   "cell_type": "markdown",
   "metadata": {},
   "source": [
    "### Here we drop certain df values which have turned to NaN because of the 1st and 2nd difference calculations"
   ]
  },
  {
   "cell_type": "code",
   "execution_count": 6,
   "metadata": {},
   "outputs": [],
   "source": [
    "df = df.dropna()"
   ]
  },
  {
   "cell_type": "code",
   "execution_count": null,
   "metadata": {},
   "outputs": [],
   "source": []
  },
  {
   "cell_type": "code",
   "execution_count": null,
   "metadata": {},
   "outputs": [],
   "source": []
  }
 ],
 "metadata": {
  "kernelspec": {
   "display_name": "geo_ai",
   "language": "python",
   "name": "python3"
  },
  "language_info": {
   "codemirror_mode": {
    "name": "ipython",
    "version": 3
   },
   "file_extension": ".py",
   "mimetype": "text/x-python",
   "name": "python",
   "nbconvert_exporter": "python",
   "pygments_lexer": "ipython3",
   "version": "3.10.14"
  }
 },
 "nbformat": 4,
 "nbformat_minor": 2
}
