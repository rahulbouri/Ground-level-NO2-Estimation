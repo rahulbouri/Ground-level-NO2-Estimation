{
 "cells": [
  {
   "cell_type": "code",
   "execution_count": 1,
   "metadata": {},
   "outputs": [],
   "source": [
    "import pandas as pd\n",
    "import numpy as np\n",
    "import xgboost as xgb\n",
    "\n",
    "from model import XGBoostModel\n",
    "\n",
    "from sklearn.model_selection import train_test_split"
   ]
  },
  {
   "cell_type": "code",
   "execution_count": 2,
   "metadata": {},
   "outputs": [],
   "source": [
    "dataset = pd.read_csv('Train_Cleaned_KNN_Filtered.csv')\n",
    "test = pd.read_csv('Test_Cleaned_KNN.csv')"
   ]
  },
  {
   "cell_type": "markdown",
   "metadata": {},
   "source": [
    "### dataset hyperparameter search"
   ]
  },
  {
   "cell_type": "code",
   "execution_count": 3,
   "metadata": {},
   "outputs": [],
   "source": [
    "dataset['LAT'] = (dataset['LAT'] - dataset['LAT'].mean()) / dataset['LAT'].std()\n",
    "dataset['LON'] = (dataset['LON'] - dataset['LON'].mean()) / dataset['LON'].std()"
   ]
  },
  {
   "cell_type": "code",
   "execution_count": 4,
   "metadata": {},
   "outputs": [],
   "source": [
    "drop_columns = list(set(dataset.columns.to_list()) - set(['NO2_trop', 'LAT','LON', 'LST', 'NO2_total', 'AAI', 'NO2_strat', 'CloudFraction']))"
   ]
  },
  {
   "cell_type": "code",
   "execution_count": 5,
   "metadata": {},
   "outputs": [],
   "source": [
    "X = dataset.drop(drop_columns, axis=1)\n",
    "y = dataset['GT_NO2']"
   ]
  },
  {
   "cell_type": "code",
   "execution_count": 6,
   "metadata": {},
   "outputs": [],
   "source": [
    "X_train, X_test, y_train, y_test = train_test_split(X, y, test_size=0.2, random_state=42)"
   ]
  },
  {
   "cell_type": "code",
   "execution_count": 7,
   "metadata": {},
   "outputs": [
    {
     "name": "stdout",
     "output_type": "stream",
     "text": [
      "(65157, 8)\n",
      "(65157,)\n"
     ]
    }
   ],
   "source": [
    "X_train = X_train.to_numpy()\n",
    "y_train = y_train.to_numpy()\n",
    "\n",
    "X_train = X_train.astype(np.float32)\n",
    "y_train = y_train.astype(np.float32)\n",
    "\n",
    "print(X_train.shape)\n",
    "print(y_train.shape)"
   ]
  },
  {
   "cell_type": "code",
   "execution_count": 8,
   "metadata": {},
   "outputs": [
    {
     "name": "stdout",
     "output_type": "stream",
     "text": [
      "(16290, 8)\n",
      "(16290,)\n"
     ]
    }
   ],
   "source": [
    "X_test = X_test.to_numpy()\n",
    "y_test = y_test.to_numpy()\n",
    "\n",
    "X_test = X_test.astype(np.float32)\n",
    "y_test = y_test.astype(np.float32)\n",
    "\n",
    "print(X_test.shape)\n",
    "print(y_test.shape)"
   ]
  },
  {
   "cell_type": "code",
   "execution_count": 9,
   "metadata": {},
   "outputs": [],
   "source": [
    "xgb = XGBoostModel(model_save_path='exp_xgboost_model.json')"
   ]
  },
  {
   "cell_type": "code",
   "execution_count": 10,
   "metadata": {},
   "outputs": [],
   "source": [
    "params = {\n",
    "    'n_estimators': [50, 100, 150],\n",
    "    'max_depth': [3, 5, 7],\n",
    "    'learning_rate': [0.01, 0.1, 0.2],\n",
    "    'subsample': [0.8, 1.0],\n",
    "    'colsample_bytree': [0.8, 1.0],\n",
    "    'gamma': [0, 0.1, 0.2],\n",
    "}"
   ]
  },
  {
   "cell_type": "code",
   "execution_count": 11,
   "metadata": {},
   "outputs": [
    {
     "name": "stdout",
     "output_type": "stream",
     "text": [
      "Best model parameters:\n",
      "n_estimators: 150\n",
      "max_depth: 7\n",
      "learning_rate: 0.2\n",
      "subsample: 1.0\n",
      "colsample_bytree: 1.0\n",
      "gamma: 0.1\n",
      "RMSE: 8.542101860046387\n"
     ]
    }
   ],
   "source": [
    "model = xgb.gridsearch_exp(X_train, y_train, X_test, y_test, param_grid=params)"
   ]
  },
  {
   "cell_type": "markdown",
   "metadata": {},
   "source": [
    "### test"
   ]
  },
  {
   "cell_type": "code",
   "execution_count": 12,
   "metadata": {},
   "outputs": [
    {
     "data": {
      "text/html": [
       "<div>\n",
       "<style scoped>\n",
       "    .dataframe tbody tr th:only-of-type {\n",
       "        vertical-align: middle;\n",
       "    }\n",
       "\n",
       "    .dataframe tbody tr th {\n",
       "        vertical-align: top;\n",
       "    }\n",
       "\n",
       "    .dataframe thead th {\n",
       "        text-align: right;\n",
       "    }\n",
       "</style>\n",
       "<table border=\"1\" class=\"dataframe\">\n",
       "  <thead>\n",
       "    <tr style=\"text-align: right;\">\n",
       "      <th></th>\n",
       "      <th>ID_Zindi</th>\n",
       "      <th>Date</th>\n",
       "      <th>LAT</th>\n",
       "      <th>LON</th>\n",
       "      <th>Precipitation</th>\n",
       "      <th>LST</th>\n",
       "      <th>AAI</th>\n",
       "      <th>CloudFraction</th>\n",
       "      <th>NO2_strat</th>\n",
       "      <th>NO2_total</th>\n",
       "      <th>NO2_trop</th>\n",
       "      <th>TropopausePressure</th>\n",
       "    </tr>\n",
       "  </thead>\n",
       "  <tbody>\n",
       "    <tr>\n",
       "      <th>0</th>\n",
       "      <td>ID_U4KWPK</td>\n",
       "      <td>2019-01-01</td>\n",
       "      <td>45.582894</td>\n",
       "      <td>8.842165</td>\n",
       "      <td>0.000000</td>\n",
       "      <td>282.980000</td>\n",
       "      <td>-0.470822</td>\n",
       "      <td>0.153694</td>\n",
       "      <td>0.000023</td>\n",
       "      <td>0.000171</td>\n",
       "      <td>0.000148</td>\n",
       "      <td>14427.42478</td>\n",
       "    </tr>\n",
       "    <tr>\n",
       "      <th>1</th>\n",
       "      <td>ID_NKPFFW</td>\n",
       "      <td>2019-01-01</td>\n",
       "      <td>45.151743</td>\n",
       "      <td>10.781408</td>\n",
       "      <td>4.023135</td>\n",
       "      <td>280.917143</td>\n",
       "      <td>0.044013</td>\n",
       "      <td>0.891932</td>\n",
       "      <td>0.000024</td>\n",
       "      <td>0.000292</td>\n",
       "      <td>0.000201</td>\n",
       "      <td>14441.18578</td>\n",
       "    </tr>\n",
       "    <tr>\n",
       "      <th>2</th>\n",
       "      <td>ID_GHSZ6K</td>\n",
       "      <td>2019-01-01</td>\n",
       "      <td>45.186329</td>\n",
       "      <td>9.146666</td>\n",
       "      <td>0.000000</td>\n",
       "      <td>281.394286</td>\n",
       "      <td>-0.198272</td>\n",
       "      <td>0.678858</td>\n",
       "      <td>0.000023</td>\n",
       "      <td>0.000149</td>\n",
       "      <td>0.000171</td>\n",
       "      <td>14440.85840</td>\n",
       "    </tr>\n",
       "    <tr>\n",
       "      <th>3</th>\n",
       "      <td>ID_P4U5WU</td>\n",
       "      <td>2019-01-01</td>\n",
       "      <td>45.836941</td>\n",
       "      <td>12.510362</td>\n",
       "      <td>0.000000</td>\n",
       "      <td>283.374286</td>\n",
       "      <td>-0.229512</td>\n",
       "      <td>0.398208</td>\n",
       "      <td>0.000023</td>\n",
       "      <td>0.000120</td>\n",
       "      <td>0.000119</td>\n",
       "      <td>14434.04790</td>\n",
       "    </tr>\n",
       "    <tr>\n",
       "      <th>4</th>\n",
       "      <td>ID_QGSNTZ</td>\n",
       "      <td>2019-01-01</td>\n",
       "      <td>45.131947</td>\n",
       "      <td>10.015742</td>\n",
       "      <td>1.928031</td>\n",
       "      <td>281.562857</td>\n",
       "      <td>0.132952</td>\n",
       "      <td>0.756917</td>\n",
       "      <td>0.000024</td>\n",
       "      <td>0.000266</td>\n",
       "      <td>0.000251</td>\n",
       "      <td>14443.09006</td>\n",
       "    </tr>\n",
       "  </tbody>\n",
       "</table>\n",
       "</div>"
      ],
      "text/plain": [
       "    ID_Zindi        Date        LAT        LON  Precipitation         LST  \\\n",
       "0  ID_U4KWPK  2019-01-01  45.582894   8.842165       0.000000  282.980000   \n",
       "1  ID_NKPFFW  2019-01-01  45.151743  10.781408       4.023135  280.917143   \n",
       "2  ID_GHSZ6K  2019-01-01  45.186329   9.146666       0.000000  281.394286   \n",
       "3  ID_P4U5WU  2019-01-01  45.836941  12.510362       0.000000  283.374286   \n",
       "4  ID_QGSNTZ  2019-01-01  45.131947  10.015742       1.928031  281.562857   \n",
       "\n",
       "        AAI  CloudFraction  NO2_strat  NO2_total  NO2_trop  TropopausePressure  \n",
       "0 -0.470822       0.153694   0.000023   0.000171  0.000148         14427.42478  \n",
       "1  0.044013       0.891932   0.000024   0.000292  0.000201         14441.18578  \n",
       "2 -0.198272       0.678858   0.000023   0.000149  0.000171         14440.85840  \n",
       "3 -0.229512       0.398208   0.000023   0.000120  0.000119         14434.04790  \n",
       "4  0.132952       0.756917   0.000024   0.000266  0.000251         14443.09006  "
      ]
     },
     "execution_count": 12,
     "metadata": {},
     "output_type": "execute_result"
    }
   ],
   "source": [
    "test.head()"
   ]
  },
  {
   "cell_type": "code",
   "execution_count": 13,
   "metadata": {},
   "outputs": [],
   "source": [
    "test['LAT'] = (test['LAT'] - test['LAT'].mean()) / test['LAT'].std()\n",
    "test['LON'] = (test['LON'] - test['LON'].mean()) / test['LON'].std()"
   ]
  },
  {
   "cell_type": "code",
   "execution_count": 14,
   "metadata": {},
   "outputs": [],
   "source": [
    "drop_columns = list(set(test.columns.to_list()) - set(['NO2_trop', 'LAT','LON', 'LST', 'NO2_total', 'AAI', 'NO2_strat', 'CloudFraction']))"
   ]
  },
  {
   "cell_type": "code",
   "execution_count": 15,
   "metadata": {},
   "outputs": [
    {
     "name": "stdout",
     "output_type": "stream",
     "text": [
      "(6576, 8)\n"
     ]
    }
   ],
   "source": [
    "test.head()\n",
    "\n",
    "id_string = []\n",
    "\n",
    "for index, row in test.iterrows():\n",
    "    id_string.append(str(row['ID_Zindi']))\n",
    "\n",
    "x_test = test.drop(drop_columns, axis=1)\n",
    "x_test = x_test.to_numpy()\n",
    "x_test = x_test.astype(np.float32)\n",
    "\n",
    "print(x_test.shape)\n"
   ]
  },
  {
   "cell_type": "code",
   "execution_count": 16,
   "metadata": {},
   "outputs": [],
   "source": [
    "predictions = model.predict(x_test)"
   ]
  },
  {
   "cell_type": "code",
   "execution_count": 17,
   "metadata": {},
   "outputs": [
    {
     "data": {
      "text/plain": [
       "(6576,)"
      ]
     },
     "execution_count": 17,
     "metadata": {},
     "output_type": "execute_result"
    }
   ],
   "source": [
    "predictions.shape"
   ]
  },
  {
   "cell_type": "code",
   "execution_count": 18,
   "metadata": {},
   "outputs": [],
   "source": [
    "df = pd.DataFrame({\n",
    "    'ID': id_string,\n",
    "    'Predicted_NO2': predictions.tolist()\n",
    "})"
   ]
  },
  {
   "cell_type": "code",
   "execution_count": 19,
   "metadata": {},
   "outputs": [],
   "source": [
    "df.to_csv('test_predictions_xgb.csv', index=False)"
   ]
  },
  {
   "cell_type": "code",
   "execution_count": 61,
   "metadata": {},
   "outputs": [],
   "source": [
    "### all columns: 9.502021054\n",
    "### 'NO2_trop', 'LAT', 'LST', 'LON', 'NO2_total': 10.68113867\n",
    "### 'NO2_trop', 'normLAT', 'normLON': 10.4919\n",
    "###'NO2_trop', 'normLAT', 'normLON', 'LST', 'NO2_total', 'AAI', 'NO2_strat', 'CloudFraction': 9.39\n",
    "\n",
    "# n_estimators: 150\n",
    "# max_depth: 7\n",
    "# learning_rate: 0.2\n",
    "# subsample: 1.0\n",
    "# colsample_bytree: 1.0\n",
    "# gamma: 0.1\n",
    "# RMSE: 8.542101860046387"
   ]
  },
  {
   "cell_type": "code",
   "execution_count": null,
   "metadata": {},
   "outputs": [],
   "source": []
  }
 ],
 "metadata": {
  "kernelspec": {
   "display_name": "geo_ai",
   "language": "python",
   "name": "python3"
  },
  "language_info": {
   "codemirror_mode": {
    "name": "ipython",
    "version": 3
   },
   "file_extension": ".py",
   "mimetype": "text/x-python",
   "name": "python",
   "nbconvert_exporter": "python",
   "pygments_lexer": "ipython3",
   "version": "3.10.14"
  }
 },
 "nbformat": 4,
 "nbformat_minor": 2
}
