{
 "cells": [
  {
   "cell_type": "code",
   "execution_count": 1,
   "metadata": {},
   "outputs": [],
   "source": [
    "import pandas as pd\n",
    "import numpy as np\n",
    "import statsmodels.api as sm\n",
    "import matplotlib.pyplot as plt\n",
    "import seaborn as sns\n",
    "\n",
    "from tqdm import tqdm\n",
    "\n",
    "from sklearn.ensemble import RandomForestRegressor\n",
    "from sklearn.linear_model import LassoCV\n",
    "from sklearn.ensemble import GradientBoostingRegressor\n",
    "from sklearn.model_selection import train_test_split"
   ]
  },
  {
   "cell_type": "code",
   "execution_count": 2,
   "metadata": {},
   "outputs": [
    {
     "data": {
      "text/html": [
       "<div>\n",
       "<style scoped>\n",
       "    .dataframe tbody tr th:only-of-type {\n",
       "        vertical-align: middle;\n",
       "    }\n",
       "\n",
       "    .dataframe tbody tr th {\n",
       "        vertical-align: top;\n",
       "    }\n",
       "\n",
       "    .dataframe thead th {\n",
       "        text-align: right;\n",
       "    }\n",
       "</style>\n",
       "<table border=\"1\" class=\"dataframe\">\n",
       "  <thead>\n",
       "    <tr style=\"text-align: right;\">\n",
       "      <th></th>\n",
       "      <th>ID_Zindi</th>\n",
       "      <th>Date</th>\n",
       "      <th>ID</th>\n",
       "      <th>LAT</th>\n",
       "      <th>LON</th>\n",
       "      <th>Precipitation</th>\n",
       "      <th>LST</th>\n",
       "      <th>AAI</th>\n",
       "      <th>CloudFraction</th>\n",
       "      <th>NO2_strat</th>\n",
       "      <th>NO2_total</th>\n",
       "      <th>NO2_trop</th>\n",
       "      <th>TropopausePressure</th>\n",
       "      <th>GT_NO2</th>\n",
       "    </tr>\n",
       "  </thead>\n",
       "  <tbody>\n",
       "    <tr>\n",
       "      <th>0</th>\n",
       "      <td>ID_ENTGC7</td>\n",
       "      <td>1/1/19</td>\n",
       "      <td>PD01</td>\n",
       "      <td>45.601585</td>\n",
       "      <td>11.903551</td>\n",
       "      <td>0.000000</td>\n",
       "      <td>NaN</td>\n",
       "      <td>0.230527</td>\n",
       "      <td>0.559117</td>\n",
       "      <td>0.000024</td>\n",
       "      <td>0.000117</td>\n",
       "      <td>NaN</td>\n",
       "      <td>14440.82126</td>\n",
       "      <td>31.0</td>\n",
       "    </tr>\n",
       "    <tr>\n",
       "      <th>1</th>\n",
       "      <td>ID_8JCCXC</td>\n",
       "      <td>1/1/19</td>\n",
       "      <td>PD04</td>\n",
       "      <td>45.371005</td>\n",
       "      <td>11.840830</td>\n",
       "      <td>3.047342</td>\n",
       "      <td>NaN</td>\n",
       "      <td>-0.074006</td>\n",
       "      <td>0.869309</td>\n",
       "      <td>0.000024</td>\n",
       "      <td>0.000127</td>\n",
       "      <td>NaN</td>\n",
       "      <td>14441.79815</td>\n",
       "      <td>42.0</td>\n",
       "    </tr>\n",
       "    <tr>\n",
       "      <th>2</th>\n",
       "      <td>ID_V3136Z</td>\n",
       "      <td>1/1/19</td>\n",
       "      <td>RO01</td>\n",
       "      <td>45.045825</td>\n",
       "      <td>12.060869</td>\n",
       "      <td>0.000000</td>\n",
       "      <td>NaN</td>\n",
       "      <td>0.024470</td>\n",
       "      <td>0.674160</td>\n",
       "      <td>0.000024</td>\n",
       "      <td>0.000086</td>\n",
       "      <td>NaN</td>\n",
       "      <td>14437.38294</td>\n",
       "      <td>31.0</td>\n",
       "    </tr>\n",
       "    <tr>\n",
       "      <th>3</th>\n",
       "      <td>ID_KRVZDJ</td>\n",
       "      <td>1/1/19</td>\n",
       "      <td>RO02</td>\n",
       "      <td>45.104075</td>\n",
       "      <td>11.553241</td>\n",
       "      <td>1.200467</td>\n",
       "      <td>NaN</td>\n",
       "      <td>-0.010442</td>\n",
       "      <td>0.920054</td>\n",
       "      <td>0.000024</td>\n",
       "      <td>0.000124</td>\n",
       "      <td>NaN</td>\n",
       "      <td>14440.83831</td>\n",
       "      <td>30.0</td>\n",
       "    </tr>\n",
       "    <tr>\n",
       "      <th>4</th>\n",
       "      <td>ID_PR351A</td>\n",
       "      <td>1/1/19</td>\n",
       "      <td>RO03</td>\n",
       "      <td>45.038758</td>\n",
       "      <td>11.790152</td>\n",
       "      <td>1.274564</td>\n",
       "      <td>NaN</td>\n",
       "      <td>-0.176178</td>\n",
       "      <td>0.747464</td>\n",
       "      <td>0.000024</td>\n",
       "      <td>0.000116</td>\n",
       "      <td>NaN</td>\n",
       "      <td>14438.79037</td>\n",
       "      <td>58.0</td>\n",
       "    </tr>\n",
       "  </tbody>\n",
       "</table>\n",
       "</div>"
      ],
      "text/plain": [
       "    ID_Zindi    Date    ID        LAT        LON  Precipitation  LST  \\\n",
       "0  ID_ENTGC7  1/1/19  PD01  45.601585  11.903551       0.000000  NaN   \n",
       "1  ID_8JCCXC  1/1/19  PD04  45.371005  11.840830       3.047342  NaN   \n",
       "2  ID_V3136Z  1/1/19  RO01  45.045825  12.060869       0.000000  NaN   \n",
       "3  ID_KRVZDJ  1/1/19  RO02  45.104075  11.553241       1.200467  NaN   \n",
       "4  ID_PR351A  1/1/19  RO03  45.038758  11.790152       1.274564  NaN   \n",
       "\n",
       "        AAI  CloudFraction  NO2_strat  NO2_total  NO2_trop  \\\n",
       "0  0.230527       0.559117   0.000024   0.000117       NaN   \n",
       "1 -0.074006       0.869309   0.000024   0.000127       NaN   \n",
       "2  0.024470       0.674160   0.000024   0.000086       NaN   \n",
       "3 -0.010442       0.920054   0.000024   0.000124       NaN   \n",
       "4 -0.176178       0.747464   0.000024   0.000116       NaN   \n",
       "\n",
       "   TropopausePressure  GT_NO2  \n",
       "0         14440.82126    31.0  \n",
       "1         14441.79815    42.0  \n",
       "2         14437.38294    31.0  \n",
       "3         14440.83831    30.0  \n",
       "4         14438.79037    58.0  "
      ]
     },
     "execution_count": 2,
     "metadata": {},
     "output_type": "execute_result"
    }
   ],
   "source": [
    "df = pd.read_csv('Train.csv')\n",
    "df.head()"
   ]
  },
  {
   "cell_type": "code",
   "execution_count": 3,
   "metadata": {},
   "outputs": [
    {
     "name": "stdout",
     "output_type": "stream",
     "text": [
      "Size of DataFrame: (86584, 14)\n",
      "Size of DataFrame after dropping rows with missing values: (40927, 14)\n",
      "Size of DataFrame after dropping non-data columns: (40927, 11)\n"
     ]
    }
   ],
   "source": [
    "print(f\"Size of DataFrame: {df.shape}\")\n",
    "df = df.dropna()\n",
    "print(f\"Size of DataFrame after dropping rows with missing values: {df.shape}\")\n",
    "df = df.drop(['ID_Zindi', 'Date', 'ID'], axis=1)\n",
    "print(f\"Size of DataFrame after dropping non-data columns: {df.shape}\")"
   ]
  },
  {
   "cell_type": "code",
   "execution_count": 4,
   "metadata": {},
   "outputs": [
    {
     "data": {
      "text/html": [
       "<div>\n",
       "<style scoped>\n",
       "    .dataframe tbody tr th:only-of-type {\n",
       "        vertical-align: middle;\n",
       "    }\n",
       "\n",
       "    .dataframe tbody tr th {\n",
       "        vertical-align: top;\n",
       "    }\n",
       "\n",
       "    .dataframe thead th {\n",
       "        text-align: right;\n",
       "    }\n",
       "</style>\n",
       "<table border=\"1\" class=\"dataframe\">\n",
       "  <thead>\n",
       "    <tr style=\"text-align: right;\">\n",
       "      <th></th>\n",
       "      <th>LAT</th>\n",
       "      <th>LON</th>\n",
       "      <th>Precipitation</th>\n",
       "      <th>LST</th>\n",
       "      <th>AAI</th>\n",
       "      <th>CloudFraction</th>\n",
       "      <th>NO2_strat</th>\n",
       "      <th>NO2_total</th>\n",
       "      <th>NO2_trop</th>\n",
       "      <th>TropopausePressure</th>\n",
       "      <th>GT_NO2</th>\n",
       "    </tr>\n",
       "  </thead>\n",
       "  <tbody>\n",
       "    <tr>\n",
       "      <th>11</th>\n",
       "      <td>45.713559</td>\n",
       "      <td>11.367657</td>\n",
       "      <td>0.0</td>\n",
       "      <td>275.18</td>\n",
       "      <td>-0.159398</td>\n",
       "      <td>0.000000</td>\n",
       "      <td>0.000024</td>\n",
       "      <td>0.000101</td>\n",
       "      <td>0.000084</td>\n",
       "      <td>14422.64906</td>\n",
       "      <td>39.000</td>\n",
       "    </tr>\n",
       "    <tr>\n",
       "      <th>15</th>\n",
       "      <td>45.690429</td>\n",
       "      <td>9.484261</td>\n",
       "      <td>0.0</td>\n",
       "      <td>281.48</td>\n",
       "      <td>-0.531419</td>\n",
       "      <td>0.140807</td>\n",
       "      <td>0.000023</td>\n",
       "      <td>0.000245</td>\n",
       "      <td>0.000288</td>\n",
       "      <td>14429.31480</td>\n",
       "      <td>15.925</td>\n",
       "    </tr>\n",
       "    <tr>\n",
       "      <th>16</th>\n",
       "      <td>45.619244</td>\n",
       "      <td>8.756970</td>\n",
       "      <td>0.0</td>\n",
       "      <td>282.98</td>\n",
       "      <td>-0.580316</td>\n",
       "      <td>0.121120</td>\n",
       "      <td>0.000023</td>\n",
       "      <td>0.000156</td>\n",
       "      <td>0.000133</td>\n",
       "      <td>14425.69705</td>\n",
       "      <td>27.775</td>\n",
       "    </tr>\n",
       "    <tr>\n",
       "      <th>25</th>\n",
       "      <td>45.649703</td>\n",
       "      <td>9.601223</td>\n",
       "      <td>0.0</td>\n",
       "      <td>282.66</td>\n",
       "      <td>-0.591821</td>\n",
       "      <td>0.151411</td>\n",
       "      <td>0.000023</td>\n",
       "      <td>0.000266</td>\n",
       "      <td>0.000159</td>\n",
       "      <td>14436.04415</td>\n",
       "      <td>13.875</td>\n",
       "    </tr>\n",
       "    <tr>\n",
       "      <th>27</th>\n",
       "      <td>45.601232</td>\n",
       "      <td>9.275073</td>\n",
       "      <td>0.0</td>\n",
       "      <td>281.06</td>\n",
       "      <td>-0.512341</td>\n",
       "      <td>0.164469</td>\n",
       "      <td>0.000023</td>\n",
       "      <td>0.000245</td>\n",
       "      <td>0.000222</td>\n",
       "      <td>14433.50968</td>\n",
       "      <td>30.425</td>\n",
       "    </tr>\n",
       "  </tbody>\n",
       "</table>\n",
       "</div>"
      ],
      "text/plain": [
       "          LAT        LON  Precipitation     LST       AAI  CloudFraction  \\\n",
       "11  45.713559  11.367657            0.0  275.18 -0.159398       0.000000   \n",
       "15  45.690429   9.484261            0.0  281.48 -0.531419       0.140807   \n",
       "16  45.619244   8.756970            0.0  282.98 -0.580316       0.121120   \n",
       "25  45.649703   9.601223            0.0  282.66 -0.591821       0.151411   \n",
       "27  45.601232   9.275073            0.0  281.06 -0.512341       0.164469   \n",
       "\n",
       "    NO2_strat  NO2_total  NO2_trop  TropopausePressure  GT_NO2  \n",
       "11   0.000024   0.000101  0.000084         14422.64906  39.000  \n",
       "15   0.000023   0.000245  0.000288         14429.31480  15.925  \n",
       "16   0.000023   0.000156  0.000133         14425.69705  27.775  \n",
       "25   0.000023   0.000266  0.000159         14436.04415  13.875  \n",
       "27   0.000023   0.000245  0.000222         14433.50968  30.425  "
      ]
     },
     "execution_count": 4,
     "metadata": {},
     "output_type": "execute_result"
    }
   ],
   "source": [
    "df.head()"
   ]
  },
  {
   "cell_type": "markdown",
   "metadata": {},
   "source": [
    "### Correlation Analysis"
   ]
  },
  {
   "cell_type": "code",
   "execution_count": 5,
   "metadata": {},
   "outputs": [
    {
     "name": "stdout",
     "output_type": "stream",
     "text": [
      "NO2_strat            -0.571280\n",
      "LST                  -0.527787\n",
      "Precipitation        -0.086861\n",
      "LON                  -0.065589\n",
      "CloudFraction         0.036754\n",
      "TropopausePressure    0.084181\n",
      "AAI                   0.184690\n",
      "LAT                   0.207283\n",
      "NO2_total             0.696369\n",
      "NO2_trop              0.728916\n",
      "GT_NO2                1.000000\n",
      "Name: GT_NO2, dtype: float64\n"
     ]
    }
   ],
   "source": [
    "correlation_matrix = df.corr(method='pearson')\n",
    "print(correlation_matrix['GT_NO2'].sort_values(ascending=True))\n",
    "\n",
    "# Cloud Fraction, LON, SHOULD BE IGNORED\n",
    "# AAI, LAT CAN BE IGNORED"
   ]
  },
  {
   "cell_type": "markdown",
   "metadata": {},
   "source": [
    "### MULTIVARIATE REGRESSION ANALYSIS"
   ]
  },
  {
   "cell_type": "code",
   "execution_count": 6,
   "metadata": {},
   "outputs": [
    {
     "name": "stdout",
     "output_type": "stream",
     "text": [
      "                            OLS Regression Results                            \n",
      "==============================================================================\n",
      "Dep. Variable:                 GT_NO2   R-squared:                       0.581\n",
      "Model:                            OLS   Adj. R-squared:                  0.581\n",
      "Method:                 Least Squares   F-statistic:                     5682.\n",
      "Date:                Sat, 10 Aug 2024   Prob (F-statistic):               0.00\n",
      "Time:                        20:02:43   Log-Likelihood:            -1.5596e+05\n",
      "No. Observations:               40927   AIC:                         3.119e+05\n",
      "Df Residuals:                   40916   BIC:                         3.120e+05\n",
      "Df Model:                          10                                         \n",
      "Covariance Type:            nonrobust                                         \n",
      "======================================================================================\n",
      "                         coef    std err          t      P>|t|      [0.025      0.975]\n",
      "--------------------------------------------------------------------------------------\n",
      "const               -240.0208     11.183    -21.462      0.000    -261.941    -218.101\n",
      "LAT                    6.1389      0.244     25.197      0.000       5.661       6.616\n",
      "LON                    0.6069      0.052     11.653      0.000       0.505       0.709\n",
      "Precipitation         -0.0246      0.015     -1.599      0.110      -0.055       0.006\n",
      "LST                   -0.0633      0.011     -6.001      0.000      -0.084      -0.043\n",
      "AAI                    0.5557      0.083      6.693      0.000       0.393       0.718\n",
      "CloudFraction         -5.1892      0.890     -5.829      0.000      -6.934      -3.444\n",
      "NO2_strat          -2.862e+05   1.04e+04    -27.383      0.000   -3.07e+05   -2.66e+05\n",
      "NO2_total           2563.3503   6134.747      0.418      0.676   -9460.888    1.46e+04\n",
      "NO2_trop            1.065e+05   6184.030     17.219      0.000    9.44e+04    1.19e+05\n",
      "TropopausePressure  -1.45e-05   2.11e-05     -0.688      0.492   -5.58e-05    2.68e-05\n",
      "==============================================================================\n",
      "Omnibus:                     9290.735   Durbin-Watson:                   1.447\n",
      "Prob(Omnibus):                  0.000   Jarque-Bera (JB):            40060.844\n",
      "Skew:                           1.058   Prob(JB):                         0.00\n",
      "Kurtosis:                       7.360   Cond. No.                     3.74e+09\n",
      "==============================================================================\n",
      "\n",
      "Notes:\n",
      "[1] Standard Errors assume that the covariance matrix of the errors is correctly specified.\n",
      "[2] The condition number is large, 3.74e+09. This might indicate that there are\n",
      "strong multicollinearity or other numerical problems.\n"
     ]
    },
    {
     "data": {
      "image/png": "[encoded data removed]",
      "text/plain": [
       "<Figure size 1000x600 with 1 Axes>"
      ]
     },
     "metadata": {},
     "output_type": "display_data"
    }
   ],
   "source": [
    "x = df.drop(columns=['GT_NO2'])\n",
    "y = df['GT_NO2']\n",
    "x = sm.add_constant(x)\n",
    "model = sm.OLS(y, x).fit()\n",
    "print(model.summary())\n",
    "\n",
    "# Extract residuals and fitted values\n",
    "residuals = model.resid\n",
    "fitted_values = model.fittedvalues\n",
    "\n",
    "# Plot residuals vs fitted values\n",
    "# plt.figure(figsize=(10, 6))\n",
    "# plt.scatter(fitted_values, residuals, alpha=0.5)\n",
    "# plt.axhline(0, color='red', linestyle='--', linewidth=2)\n",
    "# plt.xlabel('Fitted Values')\n",
    "# plt.ylabel('Residuals')\n",
    "# plt.title('Residuals vs Fitted Values')\n",
    "# plt.show()\n",
    "\n",
    "# Plot residuals distribution\n",
    "plt.figure(figsize=(10, 6))\n",
    "sns.histplot(residuals, kde=True, bins=30)\n",
    "plt.xlabel('Residuals')\n",
    "plt.title('Distribution of Residuals')\n",
    "plt.show()\n",
    "\n",
    "# Plot Q-Q plot for residuals\n",
    "# sm.qqplot(residuals, line='45')\n",
    "# plt.title('Q-Q Plot')\n",
    "# plt.show()"
   ]
  },
  {
   "cell_type": "code",
   "execution_count": 7,
   "metadata": {},
   "outputs": [
    {
     "name": "stdout",
     "output_type": "stream",
     "text": [
      "                            OLS Regression Results                            \n",
      "==============================================================================\n",
      "Dep. Variable:                 GT_NO2   R-squared:                       0.341\n",
      "Model:                            OLS   Adj. R-squared:                  0.341\n",
      "Method:                 Least Squares   F-statistic:                     3029.\n",
      "Date:                Sat, 10 Aug 2024   Prob (F-statistic):               0.00\n",
      "Time:                        20:02:43   Log-Likelihood:            -1.6523e+05\n",
      "No. Observations:               40927   AIC:                         3.305e+05\n",
      "Df Residuals:                   40919   BIC:                         3.306e+05\n",
      "Df Model:                           7                                         \n",
      "Covariance Type:            nonrobust                                         \n",
      "======================================================================================\n",
      "                         coef    std err          t      P>|t|      [0.025      0.975]\n",
      "--------------------------------------------------------------------------------------\n",
      "const               -324.7710     13.850    -23.450      0.000    -351.917    -297.625\n",
      "LAT                   13.9495      0.299     46.688      0.000      13.364      14.535\n",
      "LON                   -1.3794      0.063    -21.805      0.000      -1.503      -1.255\n",
      "Precipitation         -0.1528      0.019     -7.935      0.000      -0.191      -0.115\n",
      "LST                   -0.8626      0.007   -124.367      0.000      -0.876      -0.849\n",
      "AAI                    1.9971      0.103     19.317      0.000       1.794       2.200\n",
      "CloudFraction         -7.0131      1.111     -6.312      0.000      -9.191      -4.835\n",
      "TropopausePressure    -0.0006    2.5e-05    -25.770      0.000      -0.001      -0.001\n",
      "==============================================================================\n",
      "Omnibus:                    10938.973   Durbin-Watson:                   1.244\n",
      "Prob(Omnibus):                  0.000   Jarque-Bera (JB):            38298.104\n",
      "Skew:                           1.328   Prob(JB):                         0.00\n",
      "Kurtosis:                       6.925   Cond. No.                     3.39e+06\n",
      "==============================================================================\n",
      "\n",
      "Notes:\n",
      "[1] Standard Errors assume that the covariance matrix of the errors is correctly specified.\n",
      "[2] The condition number is large, 3.39e+06. This might indicate that there are\n",
      "strong multicollinearity or other numerical problems.\n"
     ]
    },
    {
     "data": {
      "image/png": "[encoded data removed]",
      "text/plain": [
       "<Figure size 1000x600 with 1 Axes>"
      ]
     },
     "metadata": {},
     "output_type": "display_data"
    }
   ],
   "source": [
    "x = df.drop(columns=['NO2_trop', 'NO2_strat', 'NO2_total', 'GT_NO2'])\n",
    "y = df['GT_NO2']\n",
    "x = sm.add_constant(x)\n",
    "model = sm.OLS(y, x).fit()\n",
    "print(model.summary())\n",
    "\n",
    "# Extract residuals and fitted values\n",
    "residuals = model.resid\n",
    "fitted_values = model.fittedvalues\n",
    "\n",
    "# Plot residuals distribution\n",
    "plt.figure(figsize=(10, 6))\n",
    "sns.histplot(residuals, kde=True, bins=30)\n",
    "plt.xlabel('Residuals')\n",
    "plt.title('Distribution of Residuals')\n",
    "plt.show()"
   ]
  },
  {
   "cell_type": "markdown",
   "metadata": {},
   "source": [
    "### Random Forest "
   ]
  },
  {
   "cell_type": "code",
   "execution_count": 32,
   "metadata": {},
   "outputs": [
    {
     "name": "stdout",
     "output_type": "stream",
     "text": [
      "              feature  importance\n",
      "8            NO2_trop    0.520004\n",
      "1                 LON    0.087882\n",
      "3                 LST    0.082607\n",
      "0                 LAT    0.076419\n",
      "7           NO2_total    0.062210\n",
      "6           NO2_strat    0.053661\n",
      "4                 AAI    0.041569\n",
      "9  TropopausePressure    0.036679\n",
      "5       CloudFraction    0.035636\n",
      "2       Precipitation    0.003334\n",
      "['NO2_trop', 'LON', 'LST', 'LAT', 'NO2_total', 'NO2_strat', 'AAI', 'TropopausePressure', 'CloudFraction', 'Precipitation']\n"
     ]
    }
   ],
   "source": [
    "x = df.drop(columns=['GT_NO2'])\n",
    "y = df['GT_NO2']\n",
    "\n",
    "x_train, x_test, y_train, y_test = train_test_split(x, y, test_size=0.2, random_state=42)\n",
    "\n",
    "# for i in tqdm(range(10,100,10)):\n",
    "#     rf = RandomForestRegressor(n_estimators=i, random_state=42)\n",
    "#     rf.fit(x_train, y_train)\n",
    "#     feature_importances = rf.feature_importances_\n",
    "#     feature_importance_df = pd.DataFrame({'feature': x.columns, 'importance': feature_importances})\n",
    "#     print(feature_importance_df.sort_values(by='importance', ascending=True))\n",
    "\n",
    "rf = RandomForestRegressor(n_estimators=10, random_state=42)\n",
    "rf.fit(x_train, y_train)\n",
    "feature_importances = rf.feature_importances_\n",
    "feature_importance_df = pd.DataFrame({'feature': x.columns, 'importance': feature_importances})\n",
    "feature_importance_df = feature_importance_df.sort_values(by='importance', ascending=False)\n",
    "print(feature_importance_df.sort_values(by='importance', ascending=False))\n",
    "\n",
    "rf_list = feature_importance_df.values[:,0].tolist()\n",
    "print(rf_list)"
   ]
  },
  {
   "cell_type": "markdown",
   "metadata": {},
   "source": [
    "### LASSO REGRESSION"
   ]
  },
  {
   "cell_type": "code",
   "execution_count": 34,
   "metadata": {},
   "outputs": [
    {
     "name": "stdout",
     "output_type": "stream",
     "text": [
      "              feature  importance\n",
      "3                 LST    0.853382\n",
      "9  TropopausePressure    0.000616\n",
      "0                 LAT    0.000000\n",
      "1                 LON    0.000000\n",
      "2       Precipitation    0.000000\n",
      "4                 AAI    0.000000\n",
      "5       CloudFraction    0.000000\n",
      "6           NO2_strat    0.000000\n",
      "7           NO2_total    0.000000\n",
      "8            NO2_trop    0.000000\n",
      "['LST', 'TropopausePressure', 'LAT', 'LON', 'Precipitation', 'AAI', 'CloudFraction', 'NO2_strat', 'NO2_total', 'NO2_trop']\n"
     ]
    }
   ],
   "source": [
    "x = df.drop(columns=['GT_NO2'])\n",
    "y = df['GT_NO2']\n",
    "\n",
    "lasso = LassoCV(cv=5, random_state=42)\n",
    "lasso.fit(x, y)\n",
    "importance = np.abs(lasso.coef_)\n",
    "feature_importance_df = pd.DataFrame({'feature': x.columns, 'importance': importance})\n",
    "feature_importance_df = feature_importance_df.sort_values(by='importance', ascending=False)\n",
    "print(feature_importance_df.sort_values(by='importance', ascending=False))\n",
    "\n",
    "lr_list = feature_importance_df.values[:,0].tolist()\n",
    "print(lr_list)"
   ]
  },
  {
   "cell_type": "markdown",
   "metadata": {},
   "source": [
    "### Gradient Boosting Machines(GBM)"
   ]
  },
  {
   "cell_type": "code",
   "execution_count": 35,
   "metadata": {},
   "outputs": [
    {
     "name": "stdout",
     "output_type": "stream",
     "text": [
      "              feature  importance\n",
      "8            NO2_trop    0.664907\n",
      "0                 LAT    0.090668\n",
      "3                 LST    0.086297\n",
      "1                 LON    0.082614\n",
      "7           NO2_total    0.049570\n",
      "4                 AAI    0.012351\n",
      "6           NO2_strat    0.006339\n",
      "5       CloudFraction    0.004413\n",
      "9  TropopausePressure    0.002806\n",
      "2       Precipitation    0.000036\n",
      "['NO2_trop', 'LAT', 'LST', 'LON', 'NO2_total', 'AAI', 'NO2_strat', 'CloudFraction', 'TropopausePressure', 'Precipitation']\n"
     ]
    }
   ],
   "source": [
    "x = df.drop(columns=['GT_NO2'])\n",
    "y = df['GT_NO2']\n",
    "\n",
    "gbm = GradientBoostingRegressor(n_estimators=100, random_state=42)\n",
    "gbm.fit(x, y)\n",
    "feature_importances = gbm.feature_importances_\n",
    "feature_importance_df = pd.DataFrame({'feature': x.columns, 'importance': feature_importances})\n",
    "feature_importance_df = feature_importance_df.sort_values(by='importance', ascending=False)\n",
    "print(feature_importance_df.sort_values(by='importance', ascending=False))\n",
    "\n",
    "gbm_list = feature_importance_df.values[:,0].tolist()\n",
    "print(gbm_list)"
   ]
  },
  {
   "cell_type": "code",
   "execution_count": 36,
   "metadata": {},
   "outputs": [
    {
     "name": "stdout",
     "output_type": "stream",
     "text": [
      "['NO2_trop', 'LON', 'LST', 'LAT', 'NO2_total', 'NO2_strat', 'AAI', 'TropopausePressure', 'CloudFraction', 'Precipitation']\n",
      "['LST', 'TropopausePressure', 'LAT', 'LON', 'Precipitation', 'AAI', 'CloudFraction', 'NO2_strat', 'NO2_total', 'NO2_trop']\n",
      "['NO2_trop', 'LAT', 'LST', 'LON', 'NO2_total', 'AAI', 'NO2_strat', 'CloudFraction', 'TropopausePressure', 'Precipitation']\n"
     ]
    }
   ],
   "source": [
    "print(rf_list)\n",
    "print(lr_list)\n",
    "print(gbm_list)"
   ]
  },
  {
   "cell_type": "code",
   "execution_count": null,
   "metadata": {},
   "outputs": [],
   "source": [
    "# LST, TropopausePressure, AAI, CloudFraction, Precipitation\n",
    "# LAT, LON"
   ]
  }
 ],
 "metadata": {
  "kernelspec": {
   "display_name": "geo_ai",
   "language": "python",
   "name": "python3"
  },
  "language_info": {
   "codemirror_mode": {
    "name": "ipython",
    "version": 3
   },
   "file_extension": ".py",
   "mimetype": "text/x-python",
   "name": "python",
   "nbconvert_exporter": "python",
   "pygments_lexer": "ipython3",
   "version": "3.10.14"
  }
 },
 "nbformat": 4,
 "nbformat_minor": 2
}
